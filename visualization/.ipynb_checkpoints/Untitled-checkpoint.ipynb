{
 "cells": [
  {
   "cell_type": "code",
   "execution_count": 6,
   "id": "a211b4e9",
   "metadata": {},
   "outputs": [],
   "source": [
    "import math\n",
    "import psycopg2\n",
    "import seaborn as sns\n",
    "import pandas as pd\n",
    "import geopandas as gpd\n",
    "from shapely import wkb\n",
    "import matplotlib.pyplot as plt"
   ]
  },
  {
   "cell_type": "code",
   "execution_count": 20,
   "id": "0aa9a3fd",
   "metadata": {},
   "outputs": [],
   "source": [
    "import contextily as cx"
   ]
  },
  {
   "cell_type": "code",
   "execution_count": 8,
   "id": "01d6cec0",
   "metadata": {},
   "outputs": [],
   "source": [
    "conn = psycopg2.connect(\n",
    "    host=\"131.130.52.18\",\n",
    "    port=\"5432\",\n",
    "    database=\"airbnb_grpfuenf\",\n",
    "    user=\"u12238274\",\n",
    "    password=\"12238274\"\n",
    ")\n",
    "\n",
    "cursor = conn.cursor()"
   ]
  },
  {
   "cell_type": "code",
   "execution_count": 9,
   "id": "f0f9df44",
   "metadata": {},
   "outputs": [],
   "source": [
    "suffix = ['familie', 'jugendgruppe', 'yuppies']\n",
    "tabs_sz = ['start_ziel_'+x for x in suffix]\n",
    "tabs_tsp = ['tsp_'+x for x in suffix]\n",
    "tabs_fr = ['full_routing_'+x for x in suffix]\n",
    "\n",
    "all_tabs_list = tabs_sz + tabs_tsp + tabs_fr"
   ]
  },
  {
   "cell_type": "code",
   "execution_count": 10,
   "id": "26fb72b5",
   "metadata": {},
   "outputs": [],
   "source": [
    "# cursor.close()\n",
    "# conn.close()"
   ]
  },
  {
   "cell_type": "code",
   "execution_count": 11,
   "id": "6bba365b",
   "metadata": {},
   "outputs": [],
   "source": [
    "all_tabs = {}\n",
    "for tab in all_tabs_list:\n",
    "    query = f\"SELECT * FROM {tab}\"\n",
    "    cursor.execute(query)\n",
    "\n",
    "    df = pd.DataFrame(cursor.fetchall(), columns=[desc[0] for desc in cursor.description])\n",
    "\n",
    "    if 'geom' in df.columns:\n",
    "        gdf = gpd.GeoDataFrame(df, geometry=df.geom.apply(lambda x: wkb.loads(bytes.fromhex(x))))\n",
    "    else:\n",
    "        gdf = df\n",
    "    \n",
    "    \n",
    "    all_tabs[tab] = gdf\n",
    "    \n",
    "cursor.close()\n",
    "conn.close()"
   ]
  },
  {
   "cell_type": "markdown",
   "id": "b01fa7d7",
   "metadata": {},
   "source": [
    "# Routing für Familie - Visulaisierung\n",
    "Keine Besonderheiten, wegen der Oma muss immer ein Taxi genommen werden"
   ]
  },
  {
   "cell_type": "code",
   "execution_count": 12,
   "id": "ac2d96ee",
   "metadata": {},
   "outputs": [
    {
     "data": {
      "text/plain": [
       "dict_keys(['start_ziel_familie', 'start_ziel_jugendgruppe', 'start_ziel_yuppies', 'tsp_familie', 'tsp_jugendgruppe', 'tsp_yuppies', 'full_routing_familie', 'full_routing_jugendgruppe', 'full_routing_yuppies'])"
      ]
     },
     "execution_count": 12,
     "metadata": {},
     "output_type": "execute_result"
    }
   ],
   "source": [
    "all_tabs.keys()"
   ]
  },
  {
   "cell_type": "code",
   "execution_count": 14,
   "id": "8c634d0a",
   "metadata": {},
   "outputs": [
    {
     "data": {
      "text/html": [
       "<div>\n",
       "<style scoped>\n",
       "    .dataframe tbody tr th:only-of-type {\n",
       "        vertical-align: middle;\n",
       "    }\n",
       "\n",
       "    .dataframe tbody tr th {\n",
       "        vertical-align: top;\n",
       "    }\n",
       "\n",
       "    .dataframe thead th {\n",
       "        text-align: right;\n",
       "    }\n",
       "</style>\n",
       "<table border=\"1\" class=\"dataframe\">\n",
       "  <thead>\n",
       "    <tr style=\"text-align: right;\">\n",
       "      <th></th>\n",
       "      <th>seq</th>\n",
       "      <th>node</th>\n",
       "      <th>cost</th>\n",
       "      <th>agg_cost</th>\n",
       "    </tr>\n",
       "  </thead>\n",
       "  <tbody>\n",
       "    <tr>\n",
       "      <th>0</th>\n",
       "      <td>1</td>\n",
       "      <td>-29852202</td>\n",
       "      <td>0.000000</td>\n",
       "      <td>0.000000</td>\n",
       "    </tr>\n",
       "    <tr>\n",
       "      <th>1</th>\n",
       "      <td>2</td>\n",
       "      <td>-99</td>\n",
       "      <td>2055.076921</td>\n",
       "      <td>2055.076921</td>\n",
       "    </tr>\n",
       "    <tr>\n",
       "      <th>2</th>\n",
       "      <td>3</td>\n",
       "      <td>-34</td>\n",
       "      <td>5810.448314</td>\n",
       "      <td>7865.525235</td>\n",
       "    </tr>\n",
       "    <tr>\n",
       "      <th>3</th>\n",
       "      <td>4</td>\n",
       "      <td>-88</td>\n",
       "      <td>3430.002501</td>\n",
       "      <td>11295.527736</td>\n",
       "    </tr>\n",
       "    <tr>\n",
       "      <th>4</th>\n",
       "      <td>5</td>\n",
       "      <td>-29852202</td>\n",
       "      <td>1024.124040</td>\n",
       "      <td>12319.651776</td>\n",
       "    </tr>\n",
       "  </tbody>\n",
       "</table>\n",
       "</div>"
      ],
      "text/plain": [
       "   seq      node         cost      agg_cost\n",
       "0    1 -29852202     0.000000      0.000000\n",
       "1    2       -99  2055.076921   2055.076921\n",
       "2    3       -34  5810.448314   7865.525235\n",
       "3    4       -88  3430.002501  11295.527736\n",
       "4    5 -29852202  1024.124040  12319.651776"
      ]
     },
     "execution_count": 14,
     "metadata": {},
     "output_type": "execute_result"
    }
   ],
   "source": [
    "all_tabs['tsp_familie']"
   ]
  },
  {
   "cell_type": "code",
   "execution_count": 15,
   "id": "69812da9",
   "metadata": {},
   "outputs": [],
   "source": [
    "routes_familie = []\n",
    "tsp_familie = all_tabs['tsp_familie']\n",
    "for i in range(len(tsp_familie)-1):\n",
    "    \n",
    "    routes_familie.append((tsp_familie.node.values[i], tsp_familie.node.values[i+1]))"
   ]
  },
  {
   "cell_type": "code",
   "execution_count": 16,
   "id": "2045a017",
   "metadata": {},
   "outputs": [
    {
     "data": {
      "text/html": [
       "<div>\n",
       "<style scoped>\n",
       "    .dataframe tbody tr th:only-of-type {\n",
       "        vertical-align: middle;\n",
       "    }\n",
       "\n",
       "    .dataframe tbody tr th {\n",
       "        vertical-align: top;\n",
       "    }\n",
       "\n",
       "    .dataframe thead th {\n",
       "        text-align: right;\n",
       "    }\n",
       "</style>\n",
       "<table border=\"1\" class=\"dataframe\">\n",
       "  <thead>\n",
       "    <tr style=\"text-align: right;\">\n",
       "      <th></th>\n",
       "      <th>id</th>\n",
       "      <th>edge_id</th>\n",
       "      <th>geom</th>\n",
       "      <th>fraction</th>\n",
       "      <th>from_to</th>\n",
       "      <th>name</th>\n",
       "      <th>geometry</th>\n",
       "    </tr>\n",
       "  </thead>\n",
       "  <tbody>\n",
       "    <tr>\n",
       "      <th>0</th>\n",
       "      <td>29852202</td>\n",
       "      <td>2715</td>\n",
       "      <td>01010000201B7A0000671810F535052741B0038D508FD9...</td>\n",
       "      <td>0.621105</td>\n",
       "      <td>from</td>\n",
       "      <td>AirBNB</td>\n",
       "      <td>POINT (754330.979 341603.829)</td>\n",
       "    </tr>\n",
       "    <tr>\n",
       "      <th>1</th>\n",
       "      <td>34</td>\n",
       "      <td>118623</td>\n",
       "      <td>01010000201B7A0000C48761F9831027419038D55E4B09...</td>\n",
       "      <td>0.600608</td>\n",
       "      <td>to</td>\n",
       "      <td>Donauturm</td>\n",
       "      <td>POINT (755777.987 344658.843)</td>\n",
       "    </tr>\n",
       "    <tr>\n",
       "      <th>2</th>\n",
       "      <td>88</td>\n",
       "      <td>112015</td>\n",
       "      <td>01010000201B7A000024F999CBD30827416093B47EB6E1...</td>\n",
       "      <td>0.596334</td>\n",
       "      <td>to</td>\n",
       "      <td>Riesenrad</td>\n",
       "      <td>POINT (754793.898 342125.624)</td>\n",
       "    </tr>\n",
       "    <tr>\n",
       "      <th>3</th>\n",
       "      <td>99</td>\n",
       "      <td>109095</td>\n",
       "      <td>01010000201B7A000098329FC30FF8264100DA5BE0C9D1...</td>\n",
       "      <td>0.443399</td>\n",
       "      <td>to</td>\n",
       "      <td>Sisi Museum</td>\n",
       "      <td>POINT (752647.882 341106.469)</td>\n",
       "    </tr>\n",
       "  </tbody>\n",
       "</table>\n",
       "</div>"
      ],
      "text/plain": [
       "         id  edge_id                                               geom  \\\n",
       "0  29852202     2715  01010000201B7A0000671810F535052741B0038D508FD9...   \n",
       "1        34   118623  01010000201B7A0000C48761F9831027419038D55E4B09...   \n",
       "2        88   112015  01010000201B7A000024F999CBD30827416093B47EB6E1...   \n",
       "3        99   109095  01010000201B7A000098329FC30FF8264100DA5BE0C9D1...   \n",
       "\n",
       "   fraction from_to         name                       geometry  \n",
       "0  0.621105    from       AirBNB  POINT (754330.979 341603.829)  \n",
       "1  0.600608      to    Donauturm  POINT (755777.987 344658.843)  \n",
       "2  0.596334      to    Riesenrad  POINT (754793.898 342125.624)  \n",
       "3  0.443399      to  Sisi Museum  POINT (752647.882 341106.469)  "
      ]
     },
     "execution_count": 16,
     "metadata": {},
     "output_type": "execute_result"
    }
   ],
   "source": [
    "all_tabs['start_ziel_familie']"
   ]
  },
  {
   "cell_type": "code",
   "execution_count": 18,
   "id": "f47273a0",
   "metadata": {},
   "outputs": [],
   "source": [
    "# https://viennatouristinformation.com/planen/anreise/taxi/#:~:text=Was%20kostet%20ein%20Taxi%20in,weitere%20Kilometer%201%2C05%20Euro.\n",
    "def calc_taxi(meter):\n",
    "    km = meter/1000\n",
    "    cost = 3.80\n",
    "    if km <= 4:\n",
    "        cost += math.ceil(km) * 1.42\n",
    "    if km > 4 and km <= 9:\n",
    "        cost += 4*1.42 + math.ceil(km-4)*1.08\n",
    "    if km > 9:\n",
    "        cost += 4*1.42 + 5*1.08 + math.ceil(km-9)*1.05\n",
    "        \n",
    "    return round(cost, 2)"
   ]
  },
  {
   "cell_type": "code",
   "execution_count": 35,
   "id": "dc27b38b",
   "metadata": {},
   "outputs": [],
   "source": [
    "with open(\"ABNB.svg\", 'r') as file:\n",
    "    airbnb_marker = file.read()"
   ]
  },
  {
   "cell_type": "code",
   "execution_count": 33,
   "id": "385bc61f",
   "metadata": {
    "scrolled": false
   },
   "outputs": [
    {
     "data": {
      "text/plain": [
       "<matplotlib.legend.Legend at 0x1d8cc375648>"
      ]
     },
     "execution_count": 33,
     "metadata": {},
     "output_type": "execute_result"
    },
    {
     "data": {
      "image/png": "[encoded data removed]",
      "text/plain": [
       "<Figure size 1200x800 with 1 Axes>"
      ]
     },
     "metadata": {},
     "output_type": "display_data"
    }
   ],
   "source": [
    "xlims = frf.geometry.total_bounds[0]-1000, frf.geometry.total_bounds[2]+1000\n",
    "ylims = frf.geometry.total_bounds[1]-1000, frf.geometry.total_bounds[3]+1000\n",
    "\n",
    "frf = all_tabs['full_routing_familie']\n",
    "szf = all_tabs['start_ziel_familie']\n",
    "colors = sns.color_palette(\"tab10\", len(routes_familie)).as_hex()\n",
    "\n",
    "fig, ax = plt.subplots(1, figsize=(12, 8))\n",
    "ax.set_ylim(ylims)\n",
    "ax.set_xlim(xlims)\n",
    "\n",
    "for i in range(len(routes_familie)):\n",
    "    temp = frf[(frf['start_pid'] == routes_familie[i][0]) & (frf['end_pid'] == routes_familie[i][1])]\n",
    "    temp.plot(ax=ax, color=colors[i], linewidth=i+1, linestyle='dotted')\n",
    "\n",
    "    \n",
    "for x, y, label in zip(szf.geometry.x, szf.geometry.y, szf[\"name\"]):\n",
    "    ax.annotate(label, (x, y), textcoords=\"offset points\", xytext=(15, 10), ha=\"left\", size=15)\n",
    "\n",
    "\n",
    "szf[szf['from_to'] == 'from'].plot(ax=ax, marker='*', markersize=200, color='black', zorder=1000)\n",
    "szf[szf['from_to'] == 'to'].plot(ax=ax, marker='*', markersize=200, color='yellow', edgecolor='black', zorder=1000)\n",
    "plt.axis('off')\n",
    "\n",
    "leg = []\n",
    "\n",
    "for r, (i, j) in enumerate(routes_familie):\n",
    "    #print(i, j)\n",
    "    x = frf[(frf['start_pid'] == i) & (frf['end_pid'] == j)]\n",
    "    leg.append(f\"Route {r+1}: {str(calc_taxi(x.cost.sum()))} €\")\n",
    "    \n",
    "leg.append('AirBNB')\n",
    "leg.append('POIs')\n",
    "ax.legend(leg)\n",
    "#cx.add_basemap(ax, crs=31259)"
   ]
  },
  {
   "cell_type": "code",
   "execution_count": null,
   "id": "a5796375",
   "metadata": {},
   "outputs": [],
   "source": []
  }
 ],
 "metadata": {
  "kernelspec": {
   "display_name": "Python 3 (ipykernel)",
   "language": "python",
   "name": "python3"
  },
  "language_info": {
   "codemirror_mode": {
    "name": "ipython",
    "version": 3
   },
   "file_extension": ".py",
   "mimetype": "text/x-python",
   "name": "python",
   "nbconvert_exporter": "python",
   "pygments_lexer": "ipython3",
   "version": "3.7.16"
  }
 },
 "nbformat": 4,
 "nbformat_minor": 5
}
